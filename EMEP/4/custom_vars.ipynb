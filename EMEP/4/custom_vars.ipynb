{
 "cells": [
  {
   "cell_type": "markdown",
   "metadata": {},
   "source": [
    "# Adding Custom Variables\n",
    "\n",
    "If you tried to run the configuration from the last tutorial, we saw two problems.\n",
    "\n",
    "1. `elemental_carbon` was to a known AeroTools variable\n",
    "2. `elemental_carbon` could not be read by the EMEP reader\n",
    "\n",
    "In this case, with the correct aerocom name `concCec`, at least the first problem would be solved. This is of course a problem made on purpose. But by using PyAeroval to solve this problem, we will see how this could be done in general."
   ]
  }
 ],
 "metadata": {
  "language_info": {
   "name": "python"
  }
 },
 "nbformat": 4,
 "nbformat_minor": 2
}
