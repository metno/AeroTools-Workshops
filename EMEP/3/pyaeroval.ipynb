{
 "cells": [
  {
   "cell_type": "markdown",
   "id": "23fbb59c-adcf-4ec5-8af4-6c2496743225",
   "metadata": {},
   "source": [
    "# Running PyAeroval\n",
    "\n",
    "PyAeroval is the most used feature of AeroTools. The point of PyAeroval is that the user, through a \"simple\" configuration file, can evaluate any combination of model and observation data, and display the result on the [Aeroval web page](https://aeroval.met.no/)."
   ]
  },
  {
   "cell_type": "markdown",
   "id": "5c4c6c1c",
   "metadata": {},
   "source": [
    "The configuration (config) file can either be a json file that is run with the command `pya aeroval <file path>`, or a python file that calls on PyAeroval with a configuration dictionary. In this tutorial we will use the latter method, as I think it is easier to work with a python files.\n",
    "\n",
    "We will start by looking at the structure of the configuration dictionary, and then we will look at how to run PyAeroval with said dictionary."
   ]
  },
  {
   "cell_type": "markdown",
   "id": "9cdb7d93",
   "metadata": {},
   "source": [
    "## Configuration Dictionary\n",
    "\n",
    "The config dictionary is, as you can guess, a Python dictionary. It consists of three \"parts\"\n",
    "\n",
    "1. Global options: A set of options for the evaluation, e.g. name, PI, output directory, etc\n",
    "2. Model config: A dictionary containing information about the models to be used\n",
    "3. Observation config: A dictionary containing information about the observations to be used\n",
    "\n",
    "All of this is contained in one dictionary on the form\n",
    "```\n",
    "CONFIG = {\n",
    "    <global option key 1> = <global option value 1>,\n",
    "    <global option key 2> = <global option value 2>,\n",
    "    .\n",
    "    .\n",
    "    .\n",
    "    <global option key 3> = <global option value 3>,\n",
    "    model_cfg = <dict with model configs>,\n",
    "    obs_cfg = <dict with observation config>,\n",
    "}\n",
    "```\n",
    "\n",
    "We will see how this is done below"
   ]
  },
  {
   "cell_type": "markdown",
   "id": "5e012e38",
   "metadata": {},
   "source": [
    "### Global Options\n",
    "\n",
    "Below you can see a typical set of options used in most of the runs I do with PyAeroval. We will start by first defining some paths and names that should be unique for your configuration"
   ]
  },
  {
   "cell_type": "code",
   "execution_count": 1,
   "id": "32e0b13d",
   "metadata": {},
   "outputs": [],
   "source": [
    "output_dir = <output_dir>\"/data\"\n",
    "coldata_dir = <output_dir>\"/coldata\"\n",
    "exp_pi = <our name>\n",
    "proj_id = \"workshop\"\n",
    "exp_id = \"emep\""
   ]
  },
  {
   "cell_type": "code",
   "execution_count": 2,
   "id": "3f34d371",
   "metadata": {},
   "outputs": [],
   "source": [
    "CFG = dict(\n",
    "    # Output directories\n",
    "    json_basedir=output_dir,\n",
    "    coldata_basedir=coldata_dir,\n",
    "\n",
    "    # Run options\n",
    "    reanalyse_existing=True,        # if True, existing colocated data files will be deleted\n",
    "    raise_exceptions=True,          # if True, the analysis will stop whenever an error occurs \n",
    "    clear_existing_json=False,      # if True, deletes previous output before running\n",
    "\n",
    "    # Map Options\n",
    "    add_model_maps=False,           # Adds a plot of the whole map. Very slow!!!\n",
    "    only_model_maps=False,          # Adds only plot above, without any other evaluation\n",
    "    filter_name=\"ALL-wMOUNTAINS\",   # Regional filter for analysis\n",
    "    map_zoom=\"Europe\",              # Zoom level. For EMEP, Europe is typically used\n",
    "    regions_how=\"country\",          # Calculates statistics for different regions. Typically \"country\" is used, but that does not work for satellite data\n",
    "\n",
    "    # Time and Frequency Options\n",
    "    ts_type=\"monthly\",              # Colocation frequency (no statistics in higher resolution can be computed)\n",
    "    freqs=[\"monthly\", \"yearly\"],    # Frequencies that are evaluated\n",
    "    main_freq=\"monthly\",            # Frequency that is displayed when opening webpage\n",
    "    periods=[\"2010\"],               # List of years or periods of years that are evaluated. E.g. \"2005\" or \"2001-2020\"\n",
    "    \n",
    "\n",
    "    # Statistical Options\n",
    "    obs_remove_outliers=False,\n",
    "    model_remove_outliers=False,\n",
    "    colocate_time=True,\n",
    "    zeros_to_nan=False,\n",
    "    weighted_stats=True,\n",
    "    annual_stats_constrained=True,\n",
    "    harmonise_units=True,\n",
    "    resample_how={\"vmro3max\": {\"daily\": {\"hourly\": \"max\"}}}, # How to handle Ozone. Used all the time in EMEP\n",
    "\n",
    "    # Experiment Metadata\n",
    "    exp_pi=exp_pi,\n",
    "    proj_id=proj_id,\n",
    "    exp_id=exp_id,\n",
    "    exp_name=\"Evaluation of EMEP data\",\n",
    "    exp_descr=(\"Evaluation of EMEP data\"),\n",
    "    public=True,\n",
    ")"
   ]
  },
  {
   "cell_type": "markdown",
   "id": "28d9696c",
   "metadata": {},
   "source": [
    "We will add one more options before looking at the models and observations: `min_num_obs`. This tells us how many data points are necessary when averaging to a coarser frequency. If that constraint is not met, then the coarser data point will be set to `NaN`."
   ]
  },
  {
   "cell_type": "code",
   "execution_count": 4,
   "id": "56584bc8",
   "metadata": {},
   "outputs": [],
   "source": [
    "DEFAULT_RESAMPLE_CONSTRAINTS = dict(\n",
    "    yearly=dict(monthly=9),\n",
    "    monthly=dict(\n",
    "        daily=1,\n",
    "        weekly=1,\n",
    "    ),\n",
    "    daily=dict(hourly=1),\n",
    ")\n",
    "\n",
    "CFG[\"min_num_obs\"] = DEFAULT_RESAMPLE_CONSTRAINTS"
   ]
  },
  {
   "cell_type": "markdown",
   "id": "d1140e86",
   "metadata": {},
   "source": [
    "### Setting up Filters\n",
    "\n",
    "In many, or maybe even most cases we want to filter our observations. So before we start with model and observations, we are going to define our filters. \n",
    "\n",
    "The most general, and most used filters are longitude, latitude and altitude. Below we can see that we have a range of accepted values for these. This is our base filter.\n",
    "\n",
    "EBAS (see below) needs some extra filters, like the data level, and whether or not to set flagged data to nan. The EBAS filer is these option, as well as the base filters.\n",
    "\n",
    "EEA (see below) expects other filters. These filters are where the stations are found, e.g. whether they are rural or near cities. These filters are then added to the base filters to make the EEA filter dictionary."
   ]
  },
  {
   "cell_type": "code",
   "execution_count": 1,
   "id": "1ebe2d88",
   "metadata": {},
   "outputs": [],
   "source": [
    "EEA_RURAL_FILTER = {\n",
    "    \"station_classification\": [\"background\"],\n",
    "    \"area_classification\": [\n",
    "        \"rural\",\n",
    "        \"rural-nearcity\",\n",
    "        \"rural-regional\",\n",
    "        \"rural-remote\",\n",
    "    ],\n",
    "}\n",
    "\n",
    "BASE_FILTER = {\n",
    "    \"latitude\": [30, 82],\n",
    "    \"longitude\": [-30, 90],\n",
    "    \"altitude\": [-200, 5000],\n",
    "}\n",
    "\n",
    "EBAS_FILTER = {\n",
    "    **BASE_FILTER,\n",
    "    \"data_level\": [None, 2],\n",
    "    \"set_flags_nan\": True,\n",
    "}\n",
    "\n",
    "EEA_FILTER = {\n",
    "    **BASE_FILTER,\n",
    "    **EEA_RURAL_FILTER,\n",
    "}"
   ]
  },
  {
   "cell_type": "markdown",
   "id": "0ce4373f",
   "metadata": {},
   "source": [
    "### Model Configuration\n",
    "\n",
    "While the main data format of AeroTools is Aerocom3 model data, since we are the EMEP group, I will focus on reading EMEP data. We start by defining a dictionary with all the information needed for defining the model. This data is\n",
    "\n",
    "- A model id. This should be names EMEP\n",
    "- The folder where the data is found. This folder should follow the scheme we looked at in the last tutorial\n",
    "- Which reader should be used for this data."
   ]
  },
  {
   "cell_type": "code",
   "execution_count": 8,
   "id": "1f6391d8",
   "metadata": {},
   "outputs": [],
   "source": [
    "folder_EMEP = \"/lustre/storeB/project/fou/kl/emep/People/danielh/projects/pyaerocom/workshop/emep/mod/2020\"\n",
    "\n",
    "EMEP = dict(\n",
    "        model_id=\"EMEP\",\n",
    "        model_data_dir=folder_EMEP,\n",
    "        gridded_reader_id={\"model\": \"ReadMscwCtm\"}, # Tells pyaerocom to use the EMEP reader instead of the default aerocom reader\n",
    "    )"
   ]
  },
  {
   "cell_type": "markdown",
   "id": "4faac433",
   "metadata": {},
   "source": [
    "We can now add these two dictionaries to a common *model dictionary*, and then add this to out configuration dictionary"
   ]
  },
  {
   "cell_type": "code",
   "execution_count": 10,
   "id": "5a3d28b4",
   "metadata": {},
   "outputs": [],
   "source": [
    "MODELS = {\n",
    "    \"EMEP\": EMEP,\n",
    "}\n",
    "\n",
    "CFG[\"model_cfg\"] = MODELS"
   ]
  },
  {
   "cell_type": "markdown",
   "id": "56bacb98",
   "metadata": {},
   "source": [
    "### Observations Configuration\n",
    "\n",
    "Observations can either be observation networks already defined by PyAerocom, or custom network. The problem with observations is that we don't have any conventions like Aerocom, so providing custom observations is not as easy as with models. \n",
    "\n",
    "To solve this problem, the AeroTools team has created [Pyaro](https://github.com/metno/pyaro); an interface for creating observation readers that works with PyAerocom. Who to create such readers are far outside of the scope of this workshop. We will instead look at how to use a Pyaro reader made for reading PMF EBAS data. While we only show how to read PMF EBAS data, the method is general, and with small changes applicable to many other types of data\n",
    "\n",
    "But before looking at that we will look at two networks found in PyAerocom, EBAS and EEA"
   ]
  },
  {
   "cell_type": "markdown",
   "id": "13df4451",
   "metadata": {},
   "source": [
    "EBAS and EEA are the two most used observation networks used in AeroTool. This means that they are \"known\" by Pyaerocom. By referring to the IDs of the networks, Pyaerocom know exactly how to read the data. "
   ]
  },
  {
   "cell_type": "code",
   "execution_count": null,
   "id": "0c623938",
   "metadata": {},
   "outputs": [],
   "source": [
    "EEA = dict(\n",
    "    obs_id=\"EEAAQeRep.v2\",          # ID of EEA in AeroTools\n",
    "    obs_vars=[\n",
    "        \"concpm10\",                 # Variables to be used\n",
    "    ],\n",
    "    web_interface_name=\"EEA-rural\", # The name which is shown on the web interface\n",
    "    obs_vert_type=\"Surface\",\n",
    "    ts_type=\"monthly\",              # Frequency of read observations. Evaluation can not be finer than this, for this network\n",
    "    obs_filters=EEA_FILTER,         # Filters we made before\n",
    ")\n",
    "\n",
    "EBAS = dict(\n",
    "    obs_id=\"EBASMC\",                # ID of EBAS in AeroTools\n",
    "    web_interface_name=\"EBAS-m\",    # The name which is shown on the web interface\n",
    "    obs_vars=[\n",
    "        \"concpm10\",                 # Variables to be used\n",
    "    ],\n",
    "    obs_vert_type=\"Surface\",        # Observation level\n",
    "    ts_type=\"monthly\",              # Frequency of read observations. Evaluation can not be finer than this, for this network\n",
    "    obs_filters=EBAS_FILTER,        # Filters we made before\n",
    ")"
   ]
  },
  {
   "cell_type": "markdown",
   "id": "f5715f95",
   "metadata": {},
   "source": [
    "As we can see, this is a bit more complicated than the model configs. With my comments they should be more or less understandable. Note that again `obs_id` has to be a known network, and as with the models, a catalog of networks is in the works.\n",
    "\n",
    "In the global options we defined a `min_num_obs`. We can do that here as well. If PyAeroval finds this option in the observation config, as well as in the global options, the one found in the observation config will be prioritized. There are a handful of such options, e.g. outlier limits."
   ]
  },
  {
   "cell_type": "markdown",
   "id": "fbc69bee",
   "metadata": {},
   "source": [
    " We are now left with out third way of defining an observation: Pyaro. For this we need an extra step. Pyaro need yet another configuration... We start by making that"
   ]
  },
  {
   "cell_type": "code",
   "execution_count": 19,
   "id": "2ae37a65",
   "metadata": {},
   "outputs": [],
   "source": [
    "from pyaerocom.io.pyaro.pyaro_config import PyaroConfig\n",
    "\n",
    "data_id = \"nilupmfebas\"\n",
    "url = \"/lustre/storeB/project/fou/kl/emep/People/danielh/projects/pyaerocom/workshop/emep/obs/EIMPs_winter2017-2018_data/EIMPs_winter_2017_2018_ECOC_Levo/\"\n",
    "\n",
    "config = PyaroConfig(\n",
    "    name=\"pmf\",\n",
    "    data_id=data_id,\n",
    "    filename_or_obj_or_url=url,\n",
    "    filters={\n",
    "        \"variables\": {\n",
    "            \"include\": [\n",
    "                \"pm10#elemental_carbon#ug C m-3\",\n",
    "                \"pm10#organic_carbon#ug C m-3\",\n",
    "            ]\n",
    "        }\n",
    "    },\n",
    "    name_map={\n",
    "        \"pm10#elemental_carbon#ug C m-3\": \"elementalcarbon\",\n",
    "        \"pm10#organic_carbon#ug C m-3\": \"organiccarbon\",\n",
    "    },\n",
    ")"
   ]
  },
  {
   "cell_type": "markdown",
   "id": "2abbea6c",
   "metadata": {},
   "source": [
    "This may seem like we are adding another level of complexity on top of the already complex PyAeroval configuration, but for the sake of developing new observational readers this makes it much easier. The options in this configurations are\n",
    "\n",
    "- data_id: name of the reader need to read the data\n",
    "- name: unique name chosen by the user. Readers with the same *data_id* might have to read from different sources, and therefore a unique name is needed\n",
    "- filename_or_obj_or_url: is the aptly named path to where the reader can find the data\n",
    "- filters: where are multiple filters in Pyaro. The most important are *variable/include* and *variable/exclude*. See the [docs](https://pyaro.readthedocs.io/en/latest/) for more on filters\n",
    "- name_map: each reader might have different names for variables. Here you can make a map between those names and the Aerocom names\n",
    "\n",
    "We can now add this to a observation config"
   ]
  },
  {
   "cell_type": "code",
   "execution_count": 20,
   "id": "54580be9",
   "metadata": {},
   "outputs": [],
   "source": [
    "PYARO = dict(\n",
    "        obs_id=config.name,                                     # Must be set to the name found in the config\n",
    "        obs_config=config,                                      # The pyaro config\n",
    "        web_interface_name=\"Pyaro-m\",                           # Name that is displayed on the webpage\n",
    "        obs_vars=[\"elementalcarbon\", \"organiccarbon\"],        # List of variables that is to be evaluated\n",
    "        obs_vert_type=\"Surface\",                                # Observation level\n",
    "        ts_type=\"monthly\",                                      # Frequency of read observations. Evaluation can not be finer than this, for this network\n",
    "    )\n"
   ]
  },
  {
   "cell_type": "markdown",
   "id": "a4414e55",
   "metadata": {},
   "source": [
    "We see that this is quite similar to out other observation configs, the only difference being `obs_id` and `obs_config`. Instead of defining the network with the `obs_id`, as we need for the other configs, we instead use `obs_config` to define it. Note that to make PyAeroval keep track of this observation, we need to make `obs_id` the same as the **name** defined in the Pyaro config. The way I've done this above is the easiest and safest.\n",
    "\n",
    "We can now add all of this to out main configuration"
   ]
  },
  {
   "cell_type": "code",
   "execution_count": 22,
   "id": "591494d1",
   "metadata": {},
   "outputs": [],
   "source": [
    "OBS_CFG = {\n",
    "    \"Pyaro-m\": PYARO,\n",
    "    \"EBAS-m\": EBAS,\n",
    "    \"EEA-m\": EEA\n",
    "}\n",
    "\n",
    "CFG[\"obs_cfg\"] = OBS_CFG"
   ]
  },
  {
   "cell_type": "markdown",
   "id": "b1eb2e06",
   "metadata": {},
   "source": [
    "## Running PyAeroval\n",
    "\n",
    "We have now finally come to the point were we can run this config. While this can be done in this notebook, I instead recommend using the accompanying Python file. But we will here look at the last part of code needed to run the configuration dict"
   ]
  },
  {
   "cell_type": "code",
   "execution_count": null,
   "id": "dc4bbe26",
   "metadata": {},
   "outputs": [],
   "source": [
    "from pyaerocom.aeroval import EvalSetup, ExperimentProcessor\n",
    "from pyaerocom import const\n",
    "\n",
    "print(const.CACHEDIR)               # Prints where to find the caching folder. Not needed but this folder should be emptied now and then, so I like to see where it is\n",
    "\n",
    "\n",
    "stp = EvalSetup(**CFG)              # Makes a setup object from the dict, that PyAeroval can use\n",
    "ana = ExperimentProcessor(stp)      # Makes an experiment object\n",
    "res = ana.run()                     # Runs the experiment\n",
    "\n",
    "\n",
    "# Example on how to run an experiment with only certain models, obs, and variables. Often used to run only parts of the experiment that has changed\n",
    "# res = ana.run(model_name=[\"EMEP\"], obs_name=[\"EEA-m\"], var_list=[\"concCec\"])\n",
    "\n"
   ]
  },
  {
   "cell_type": "markdown",
   "id": "f35b9f6f",
   "metadata": {},
   "source": [
    "### Running On PPI\n",
    "\n",
    "Since PyAeroval evaluation can be quite resource heavy, we recommend either submitting it as a job, or running the python script on a compute node. This can be done by"
   ]
  },
  {
   "cell_type": "code",
   "execution_count": null,
   "id": "85207466",
   "metadata": {
    "vscode": {
     "languageId": "shellscript"
    }
   },
   "outputs": [],
   "source": [
    "%%bash\n",
    "# on PPI\n",
    "qlogin -l h_rss=8G,mem_free=8G,h_data=8G # Logs into a compute node with 8GB memory\n",
    "\n",
    "module load /modules/MET/rhel8/user-modules/fou-kl/aerotools/pya-v2024.05.1.EMEP.conda \n",
    "\n",
    "cd <path to the python script>\n",
    "python pyaeroval_config.py"
   ]
  },
  {
   "cell_type": "markdown",
   "id": "701b85c2",
   "metadata": {},
   "source": [
    "Or, when you are using a module that is not Anaconda based (see [tutorial 1](../1/what_is_aerotools.ipynb))"
   ]
  },
  {
   "cell_type": "code",
   "execution_count": null,
   "id": "3b4e3095",
   "metadata": {
    "vscode": {
     "languageId": "shellscript"
    }
   },
   "outputs": [],
   "source": [
    "%%bash\n",
    "# on PPI\n",
    "qlogin -l h_rss=8G,mem_free=8G,h_data=8G # Logs into a compute node with 8GB memory\n",
    "\n",
    "module load /modules/MET/rhel8/user-modules/fou-kl/aerotools/pya-v2024.05.1.EMEP\n",
    "\n",
    "cd <path to the python script>\n",
    "pya_python pyaeroval_config.py"
   ]
  },
  {
   "cell_type": "markdown",
   "id": "c8bee4bc",
   "metadata": {},
   "source": [
    "## Afterword\n",
    "\n",
    "There are other options, both for the model- and observation setup, as well as the global setup. I've tried to make this config file as slim as possible, while still trying to make it useful. It might seem complex and daunting, but once you have a working config file, you will for the must part just copy  that file, only changing the model and observation setups."
   ]
  }
 ],
 "metadata": {
  "kernelspec": {
   "display_name": "Python 3 (ipykernel)",
   "language": "python",
   "name": "python3"
  },
  "language_info": {
   "codemirror_mode": {
    "name": "ipython",
    "version": 3
   },
   "file_extension": ".py",
   "mimetype": "text/x-python",
   "name": "python",
   "nbconvert_exporter": "python",
   "pygments_lexer": "ipython3",
   "version": "3.11.6"
  }
 },
 "nbformat": 4,
 "nbformat_minor": 5
}
