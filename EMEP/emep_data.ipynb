{
 "cells": [
  {
   "cell_type": "markdown",
   "metadata": {},
   "source": [
    "# EMEP Data\n",
    "\n",
    "Here we will have a quick overview about how the EMEP data should look for AeroTools to be able to read the data. \n",
    "\n",
    "Due to some design decisions that were made when making the EMEP reader years ago, your EMEP data needs to have a certain naming and folding scheme. This scheme will help the EMEP reader discern the time codes as well as the frequency of the data.\n",
    "\n",
    "The following are the requirements"
   ]
  },
  {
   "cell_type": "markdown",
   "metadata": {},
   "source": [
    "1. Maximum one year per file, named `Base_<frequency>.nc`\n",
    "2. These files should be in a folder where the name of the folder is the year\n",
    "3. For multiple years, there should be one folder per year, with that year as name.\n",
    "4. All the folders with the years, can be in a custom named folder"
   ]
  },
  {
   "cell_type": "markdown",
   "metadata": {},
   "source": [
    "```\n",
    "customfoler/\n",
    "├── 2015/\n",
    "│   ├── Base_day.nc\n",
    "│   ├── Base_month.nc\n",
    "│   └── Base_hour.nc\n",
    "└── 2016/\n",
    "    ├── Base_day.nc\n",
    "    ├── Base_month.nc\n",
    "    └── Base_hour.nc\n",
    "```"
   ]
  },
  {
   "cell_type": "markdown",
   "metadata": {},
   "source": [
    "You can now give AeroTools the root folder. AeroTools will then use the folder names to figure out the years to read, and the file names to figure out which frequencies are available"
   ]
  }
 ],
 "metadata": {
  "kernelspec": {
   "display_name": "pya",
   "language": "python",
   "name": "python3"
  },
  "language_info": {
   "codemirror_mode": {
    "name": "ipython",
    "version": 3
   },
   "file_extension": ".py",
   "mimetype": "text/x-python",
   "name": "python",
   "nbconvert_exporter": "python",
   "pygments_lexer": "ipython3",
   "version": "3.11.6"
  }
 },
 "nbformat": 4,
 "nbformat_minor": 2
}
