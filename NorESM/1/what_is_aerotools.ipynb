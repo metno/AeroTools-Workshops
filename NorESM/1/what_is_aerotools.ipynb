{
 "cells": [
  {
   "cell_type": "markdown",
   "id": "0f08c292-4ec4-4dc5-ba30-f31b960c4a6a",
   "metadata": {},
   "source": [
    "# What is AeroTools"
   ]
  },
  {
   "cell_type": "markdown",
   "id": "8ef3b874-e7fc-47ce-8458-a8330d9d0cd4",
   "metadata": {},
   "source": [
    "AeroTools is a collection of tools, mostly written in Python, for reading, analyzing, visualizing and evaluating model and observational data. The tools are mean to be easy and quick to use, while at the same time providing thorough and easy to understand results. \n",
    "\n",
    "While AeroTools can be used in many different ways, the main output of AeroTools is files that can be hosted on the beautiful [Aeroval webpage](https://aeroval.met.no/evaluation/?project=emep&exp_name=2023-reporting). This webpage has been used by the air pollution group at FoU-KL for a couple of year, with one use being the evaluation used in the yearly EMEP report. "
   ]
  },
  {
   "cell_type": "markdown",
   "id": "c341301f-a5d5-4213-9a24-f42a60dd6f02",
   "metadata": {},
   "source": [
    "## Quick Tour of AeroTools"
   ]
  },
  {
   "cell_type": "markdown",
   "id": "4ebf827f-091b-400a-b11e-89377eed83bd",
   "metadata": {},
   "source": [
    "In this tutorial we will look at the main components of AeroTools: PyAerocom, PyAeroval and Aeroval. This is just a quick overview of AeroTools. Each tool has their own tutorials for those how wants to dive deeper into them\n",
    "\n",
    "- PyAerocom: The biggest part of AeroTools. Responsible for reading data, colocating the data as well as pre- and post-processing the data. The final product of PyAerocom is a ColocatedData object\n",
    "- PyAeroval: The part of AeroTools most users work with. Calculates timeseries, statistics, etc, for use in the Aeroval webpage.\n",
    "- Aeroval: The beautiful webpage used to display the results from PyAeroval\n",
    "\n",
    "As of now, both PyAerocom and PyAeroval are part of the PyAerocom library. Aeroval has it's own repository, which is internal to MET. We will in a later tutorial see how to upload your own results to a development version of this webpage.\n",
    "\n",
    "Below is a diagram of said components"
   ]
  },
  {
   "cell_type": "markdown",
   "id": "38633185-d87f-438c-b438-b1519a9f6c05",
   "metadata": {},
   "source": [
    "![AeroTools Components](aeroTools_components.png)"
   ]
  },
  {
   "cell_type": "markdown",
   "id": "eaad6377-404a-4431-84c4-71784ee9bca6",
   "metadata": {},
   "source": [
    "There are other (planned) tools in AeroTools, which are not part of the main workflow, but which can do smaller, specific tasks. On such tool which we will see later is the [NorESM-Aerocom-Converter](https://github.com/metno/noresm-aerocom-converter)(NAC), which we will use to convert NorESM model data to Aerocom data."
   ]
  },
  {
   "cell_type": "markdown",
   "id": "32d7bdf7-2c63-4030-b1e2-e15878457101",
   "metadata": {},
   "source": [
    "### PyAerocom"
   ]
  },
  {
   "cell_type": "markdown",
   "id": "b5494442-763d-445a-8685-c97b7d612213",
   "metadata": {},
   "source": [
    "PyAerocom is the biggest part of the AeroTools, and is the core on which the rest is build upon. PyAerocom is used as a normal python library, by calling of classes, methods, etc, contrary to PyAeroval (as we shall see below). \n",
    "\n",
    "PyAerocom is responsible for \n",
    "\n",
    "- Reading data\n",
    "    - Model data is read from gridded data (mostly netCDF). If the data file(s) is Aerocom compliant and the variables you want to use are registered in PyAerocom, then PyAerocom should be able to read the file(s).\n",
    "    - Observations can be both gridded data (e.g. satellite data) and ungridded data (most observational networks). Ungridded data is generally difficult to read, as each observational network has its own file format. PyAerocom has built in several readers for different observational networks. At the start of 2024, PyAerocom has started to use [Pyaro](https://github.com/metno/pyaro), which is a separate MET project meant to make it easier to write your own ungridded data reader, without having to mess with the source code of PyAerocom. We will in another tutorial see how to use Pyaro when reading data (but not how to make a reader, for that see the [Pyaro documentation](https://pyaro.readthedocs.io/en/latest/).\n",
    "    - Ungridded data can be seen as a collection of StationData objects. These are objects holding timeseries of observations, as well as metadata, for separate measurement stations.\n",
    "    - The classes for reading data will return either a *GriddedData* or a *UngriddedData* objects (as well as *StationData* objects coming from the UngriddedData objects. These can be used on there own, without the need for colocation.\n",
    "- Pre- and post-processing can be done on the data before and after reading, as well as before and after colocation. This include excluding and filtering measurement stations, filtering measurements, as well as calculate timeseries for coarser measurement frequencies (e.g. going from daily to monthly timeseries)\n",
    "- Colocation is the final step of PyAerocom, and consists of matching model data with observations\n",
    "    - The most common way of colocation in Gridded-Ungridded colocation, where gridded model data is matched with ungridded observational data. In this case gridded model data is interpolated to the position (and time) of the measurements done at a station, so that the model and observation can be compared.\n",
    "    - The newest feature of PyAerocom is the ability to colocate vertical profiles.\n",
    " \n",
    "As mentioned above, the final result of PyAerocom is a *ColocatedData* object. This can used on its own, e.g. for plotting of user defined analysis."
   ]
  },
  {
   "cell_type": "markdown",
   "id": "dd3fcedb-089d-4b27-b209-e0c2c9991e2d",
   "metadata": {},
   "source": [
    "![Parts of Pyaerocom](pyaerocom_coldata.png)"
   ]
  },
  {
   "cell_type": "markdown",
   "id": "ba04a2e9-e143-4fba-88e0-d41f3a5d16eb",
   "metadata": {},
   "source": [
    "### PyAeroval"
   ]
  },
  {
   "cell_type": "markdown",
   "id": "85d6cba4-14b9-484f-beec-e429a994dd1b",
   "metadata": {},
   "source": [
    "PyAeroval is a tool made for analyzing model data and observation using PyAerocom. PyAeroval will use PyAerocom to read and colocated the data, and then do a evaluation of the given data. This is meant to be viewed on the Aeroval webpage, which we will discuss below.\n",
    "\n",
    "PyAeroval is how most users will use AeroTools. When using PyAeroval you do not have to touch PyAerocom. Instead you will have to make a configuration file which defines the models, observations, chemical species, filters, etc you want to use. Writing these config files might seem daunting at first, but when you first have a config file you are happy with, you will mostly copy and reuse this basic structure for most of your config files. In later tutorials you will be gently introduced to how to setup such a config file.\n",
    "\n",
    "Then PyAeroval is done running you will end up with a large amount of *json* files, containing the results. While it is possible to use these to make your own plots, they are meant to be used with Aeroval"
   ]
  },
  {
   "cell_type": "markdown",
   "id": "e42d6980-9c16-4c6b-9ba3-bb5f012c4324",
   "metadata": {},
   "source": [
    "### Aeroval"
   ]
  },
  {
   "cell_type": "markdown",
   "id": "3fb8fae8-b838-4406-8128-7eaee45ce647",
   "metadata": {},
   "source": [
    "Aeroval can be seen as the main selling point of AeroTools. This is a hub used to watch and share you evaluation. \n",
    "\n",
    "Aeroval is divided into projects and experiments. Projects are collections of experiments. One example of a project is EMEP, with the different yearly reports being experiments. \n",
    "\n",
    "The evaluations are done for each model, observation and chemical species. A long with time series, a range of [statistical quantities](https://aeroval.met.no/infos/?project=emep&exp_name=2023-reporting) are calculated and show.\n",
    "\n",
    "Aeroval is meant to be shared with other people, but plots can be extraceted and downloaded from Aeroval as well, e.g. for the use in articles."
   ]
  },
  {
   "cell_type": "markdown",
   "id": "edab6cc2",
   "metadata": {},
   "source": [
    "## Using the AeroTools Module\n",
    "\n",
    "In this last section we will show how to activate AeroTools, with all the tools needed for the rest of the workshop. It is possible to install all AeroTools locally using python and pip, but a goal of AeroTools is that it should be easily accessible on PPI. I will thus only show how to use it on PPI. \n",
    "\n",
    "AeroTools is already installed on PPI as a module, we therefore only need to load said module"
   ]
  },
  {
   "cell_type": "code",
   "execution_count": null,
   "id": "cda8c549",
   "metadata": {
    "vscode": {
     "languageId": "shellscript"
    }
   },
   "outputs": [],
   "source": [
    "%%bash\n",
    "module load /modules/MET/rhel8/user-modules/fou-kl/aerotools/aerotools"
   ]
  },
  {
   "cell_type": "markdown",
   "id": "c9dac05d",
   "metadata": {},
   "source": [
    "And we are ready to use AeroTools"
   ]
  },
  {
   "cell_type": "code",
   "execution_count": 1,
   "id": "43fa88f2",
   "metadata": {
    "vscode": {
     "languageId": "shellscript"
    }
   },
   "outputs": [
    {
     "name": "stdout",
     "output_type": "stream",
     "text": [
      "\u001b[1m                                                                                \u001b[0m\n",
      "\u001b[1m \u001b[0m\u001b[1;33mUsage: \u001b[0m\u001b[1mpya [OPTIONS] COMMAND [ARGS]...\u001b[0m\u001b[1m                                        \u001b[0m\u001b[1m \u001b[0m\n",
      "\u001b[1m                                                                                \u001b[0m\n",
      " Pyaerocom Command Line Interface                                               \n",
      "                                                                                \n",
      "\u001b[2m╭─\u001b[0m\u001b[2m Options \u001b[0m\u001b[2m───────────────────────────────────────────────────────────────────\u001b[0m\u001b[2m─╮\u001b[0m\n",
      "\u001b[2m│\u001b[0m \u001b[1;36m-\u001b[0m\u001b[1;36m-version\u001b[0m             \u001b[1;32m-V\u001b[0m                                                     \u001b[2m│\u001b[0m\n",
      "\u001b[2m│\u001b[0m \u001b[1;36m-\u001b[0m\u001b[1;36m-install\u001b[0m\u001b[1;36m-completion\u001b[0m            Install completion for the current shell.    \u001b[2m│\u001b[0m\n",
      "\u001b[2m│\u001b[0m \u001b[1;36m-\u001b[0m\u001b[1;36m-show\u001b[0m\u001b[1;36m-completion\u001b[0m               Show completion for the current shell, to    \u001b[2m│\u001b[0m\n",
      "\u001b[2m│\u001b[0m                                 copy it or customize the installation.       \u001b[2m│\u001b[0m\n",
      "\u001b[2m│\u001b[0m \u001b[1;36m-\u001b[0m\u001b[1;36m-help\u001b[0m                          Show this message and exit.                  \u001b[2m│\u001b[0m\n",
      "\u001b[2m╰──────────────────────────────────────────────────────────────────────────────╯\u001b[0m\n",
      "\u001b[2m╭─\u001b[0m\u001b[2m Commands \u001b[0m\u001b[2m──────────────────────────────────────────────────────────────────\u001b[0m\u001b[2m─╮\u001b[0m\n",
      "\u001b[2m│\u001b[0m \u001b[1;36maeroval      \u001b[0m\u001b[1;36m \u001b[0m run AeroVal experiment as descried on config file             \u001b[2m│\u001b[0m\n",
      "\u001b[2m│\u001b[0m \u001b[1;36mbrowse       \u001b[0m\u001b[1;36m \u001b[0m Browse database e.g., browse \u001b[1;33m<DATABASE>\u001b[0m                       \u001b[2m│\u001b[0m\n",
      "\u001b[2m│\u001b[0m \u001b[1;36mclearcache   \u001b[0m\u001b[1;36m \u001b[0m Delete cached data objects                                    \u001b[2m│\u001b[0m\n",
      "\u001b[2m│\u001b[0m \u001b[1;36mlistcache    \u001b[0m\u001b[1;36m \u001b[0m List cached data objects                                      \u001b[2m│\u001b[0m\n",
      "\u001b[2m│\u001b[0m \u001b[1;36mppiaccess    \u001b[0m\u001b[1;36m \u001b[0m Check if MetNO PPI can be accessed                            \u001b[2m│\u001b[0m\n",
      "\u001b[2m╰──────────────────────────────────────────────────────────────────────────────╯\u001b[0m\n",
      "\n"
     ]
    }
   ],
   "source": [
    "%%bash\n",
    "pya --help"
   ]
  }
 ],
 "metadata": {
  "kernelspec": {
   "display_name": "Python 3 (ipykernel)",
   "language": "python",
   "name": "python3"
  },
  "language_info": {
   "codemirror_mode": {
    "name": "ipython",
    "version": 3
   },
   "file_extension": ".py",
   "mimetype": "text/x-python",
   "name": "python",
   "nbconvert_exporter": "python",
   "pygments_lexer": "ipython3",
   "version": "3.11.6"
  }
 },
 "nbformat": 4,
 "nbformat_minor": 5
}
