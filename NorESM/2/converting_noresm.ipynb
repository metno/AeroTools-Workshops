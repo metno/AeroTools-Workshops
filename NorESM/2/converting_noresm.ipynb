{
 "cells": [
  {
   "cell_type": "markdown",
   "id": "3e7c289f-3aa8-446d-b41f-3652f01883b5",
   "metadata": {},
   "source": [
    "# Converting NorESM data to Aerocom"
   ]
  },
  {
   "cell_type": "markdown",
   "id": "9920cff9-7730-4f4a-861a-e175f7244389",
   "metadata": {},
   "source": [
    "Before starting to evaluate and visualizing NorESM data, we need to make sure that PyAerocom can read the data. PyAerocom can read a couple of formats often used in our group, like the EMEP format. Has the name might give away, the format PyAerocom has the widest reader support for is the Aerocom format. \n",
    "\n",
    "Aerocom, EMEP and NorESM all come in NetCDF formats. What makes Aerocom special is the naming of the chemical species, as well as how much data one file contains, and the name of the files. This can be done by hand for those who want, but for this workshop -- as well as future use -- we have made a small command line tool for converting NorESM data to Aerocom data: [NorESM-Aerocom-Converter](https://github.com/metno/noresm-aerocom-converter)(NAC).\n",
    "\n",
    "NAC is a small python tool written over two days, with the help of Ove and his bash script. Here we will see how to run a simple conversion. More detail on how to use NAC can be found [here](https://github.com/metno/noresm-aerocom-converter). We have also provided NorESM data we will use during the workshop."
   ]
  },
  {
   "cell_type": "markdown",
   "id": "83318450",
   "metadata": {},
   "source": [
    "## Loading AeroTools\n",
    "\n",
    "AeroTools can now be activated as a module on PPI"
   ]
  },
  {
   "cell_type": "code",
   "execution_count": null,
   "id": "874ee215",
   "metadata": {
    "vscode": {
     "languageId": "shellscript"
    }
   },
   "outputs": [],
   "source": [
    "%%bash\n",
    "module load /modules/MET/rhel8/user-modules/fou-kl/aerotools/aerotools"
   ]
  },
  {
   "cell_type": "markdown",
   "id": "2d6d3bce",
   "metadata": {},
   "source": [
    "You should now be able to run PyAerocom and PyAeroval through the commands"
   ]
  },
  {
   "cell_type": "code",
   "execution_count": null,
   "id": "eefd1c63",
   "metadata": {
    "vscode": {
     "languageId": "shellscript"
    }
   },
   "outputs": [],
   "source": [
    "%%bash\n",
    "pya --help # See all commands available with pyaercom\n",
    "pya aeroval --help "
   ]
  },
  {
   "cell_type": "markdown",
   "id": "445c54e5",
   "metadata": {},
   "source": [
    "## Running NAC"
   ]
  },
  {
   "cell_type": "markdown",
   "id": "7691fa81",
   "metadata": {},
   "source": [
    "Through this module, we will also have access to NAC. To check that NAC works, run"
   ]
  },
  {
   "cell_type": "code",
   "execution_count": 2,
   "id": "664731a8",
   "metadata": {
    "vscode": {
     "languageId": "shellscript"
    }
   },
   "outputs": [
    {
     "name": "stdout",
     "output_type": "stream",
     "text": [
      "\u001b[1m                                                                                \u001b[0m\n",
      "\u001b[1m \u001b[0m\u001b[1;33mUsage: \u001b[0m\u001b[1mnac [OPTIONS] COMMAND [ARGS]...\u001b[0m\u001b[1m                                        \u001b[0m\u001b[1m \u001b[0m\n",
      "\u001b[1m                                                                                \u001b[0m\n",
      " Small tool for converting NorESM modeldata to Aerocom3 modeldata               \n",
      "                                                                                \n",
      "\u001b[2m╭─\u001b[0m\u001b[2m Options \u001b[0m\u001b[2m───────────────────────────────────────────────────────────────────\u001b[0m\u001b[2m─╮\u001b[0m\n",
      "\u001b[2m│\u001b[0m \u001b[1;36m-\u001b[0m\u001b[1;36m-install\u001b[0m\u001b[1;36m-completion\u001b[0m          Install completion for the current shell.      \u001b[2m│\u001b[0m\n",
      "\u001b[2m│\u001b[0m \u001b[1;36m-\u001b[0m\u001b[1;36m-show\u001b[0m\u001b[1;36m-completion\u001b[0m             Show completion for the current shell, to copy \u001b[2m│\u001b[0m\n",
      "\u001b[2m│\u001b[0m                               it or customize the installation.              \u001b[2m│\u001b[0m\n",
      "\u001b[2m│\u001b[0m \u001b[1;36m-\u001b[0m\u001b[1;36m-help\u001b[0m                        Show this message and exit.                    \u001b[2m│\u001b[0m\n",
      "\u001b[2m╰──────────────────────────────────────────────────────────────────────────────╯\u001b[0m\n",
      "\u001b[2m╭─\u001b[0m\u001b[2m Commands \u001b[0m\u001b[2m──────────────────────────────────────────────────────────────────\u001b[0m\u001b[2m─╮\u001b[0m\n",
      "\u001b[2m│\u001b[0m \u001b[1;36mconvert     \u001b[0m\u001b[1;36m \u001b[0m Converts modeldata according to given arguments and options    \u001b[2m│\u001b[0m\n",
      "\u001b[2m│\u001b[0m \u001b[1;36mfrom-file   \u001b[0m\u001b[1;36m \u001b[0m Converts modeldata according to arguments and options given in \u001b[2m│\u001b[0m\n",
      "\u001b[2m│\u001b[0m \u001b[1;36m             \u001b[0m file                                                           \u001b[2m│\u001b[0m\n",
      "\u001b[2m│\u001b[0m \u001b[1;36mlist-species\u001b[0m\u001b[1;36m \u001b[0m List all possible chemical species that are defined in         \u001b[2m│\u001b[0m\n",
      "\u001b[2m│\u001b[0m \u001b[1;36m             \u001b[0m conversion.yaml, and thus can be converted                     \u001b[2m│\u001b[0m\n",
      "\u001b[2m╰──────────────────────────────────────────────────────────────────────────────╯\u001b[0m\n",
      "\n"
     ]
    }
   ],
   "source": [
    "%%bash\n",
    "nac --help"
   ]
  },
  {
   "cell_type": "markdown",
   "id": "99e42d28",
   "metadata": {},
   "source": [
    "The output tells us that two commands are available. We are only going to use `from-file`. Both commands does the same, but with `from-file` all the necessary arguments are found in a yaml file, instead of being inputted in the terminal."
   ]
  },
  {
   "cell_type": "markdown",
   "id": "64213f10",
   "metadata": {},
   "source": [
    "### Yaml file"
   ]
  },
  {
   "cell_type": "markdown",
   "id": "71d468e5",
   "metadata": {},
   "source": [
    "NAC needs a small yaml file with all the parameters needed. The format of the file is as follows"
   ]
  },
  {
   "cell_type": "raw",
   "id": "54b983dc",
   "metadata": {},
   "source": [
    "inputdir: <path of noresm data>\n",
    "outputdir: <path to output  folder>\n",
    "experiment: <name of experiment>\n",
    "fullname: <full name of experiment, will be used for name of resulting files>\n",
    "baseyear: <reference date. If years below is absolute (e.g. 2005), then use 0 here>\n",
    "ll: <int, Vertical Level (used for some conversions)>\n",
    "years: \n",
    "  - <year 1>\n",
    "  - <year 2>\n",
    "  - ...\n",
    "variables:\n",
    "  - <var1 (aercom3 variable)>\n",
    "  - <var2 (aercom3 variable)>\n",
    "  - ...\n",
    "dry_run: <bool, if true, then all conversions will be done, but NAC will not save the results>"
   ]
  },
  {
   "cell_type": "markdown",
   "id": "05da5804",
   "metadata": {},
   "source": [
    "You can either write your own, or copy the one I've provided in [here](./test.yaml). The only thing you have to edit is the output dir. Then run"
   ]
  },
  {
   "cell_type": "code",
   "execution_count": null,
   "id": "edef4d15",
   "metadata": {
    "vscode": {
     "languageId": "shellscript"
    }
   },
   "outputs": [],
   "source": [
    "%%bash\n",
    "nac from-file <path to your yaml file>"
   ]
  },
  {
   "cell_type": "markdown",
   "id": "7aeefc3d",
   "metadata": {},
   "source": [
    "The script should tell you if something went wrong. If not, you should be able to see the results at `<inputdir>/atm/hist/<experiment>.cam.h0.<year>-<month>.nc`. We are now ready to read the model data with PyAerocom"
   ]
  },
  {
   "cell_type": "markdown",
   "id": "95b62ba5",
   "metadata": {},
   "source": [
    "## Listing Species (optional)\n",
    "\n",
    "You can list all supported species with"
   ]
  },
  {
   "cell_type": "code",
   "execution_count": 4,
   "id": "75dcf826",
   "metadata": {
    "vscode": {
     "languageId": "shellscript"
    }
   },
   "outputs": [
    {
     "name": "stdout",
     "output_type": "stream",
     "text": [
      "┏━━━━━━━━━━━━━━━━━┳━━━━━━━━━━━━┳━━━━━━━━━━━━━┳━━━━━━━━━━━━━━━━━━━━━━━━━━━━━━━━━┓\n",
      "┃\u001b[1m \u001b[0m\u001b[1mSpecies        \u001b[0m\u001b[1m \u001b[0m┃\u001b[1m \u001b[0m\u001b[1mUnit      \u001b[0m\u001b[1m \u001b[0m┃\u001b[1m \u001b[0m\u001b[1mCoordinates\u001b[0m\u001b[1m \u001b[0m┃\u001b[1m \u001b[0m\u001b[1mFormula                        \u001b[0m\u001b[1m \u001b[0m┃\n",
      "┡━━━━━━━━━━━━━━━━━╇━━━━━━━━━━━━╇━━━━━━━━━━━━━╇━━━━━━━━━━━━━━━━━━━━━━━━━━━━━━━━━┩\n",
      "│ abs550aer       │ 1          │ Column      │ x.ABS550AL                      │\n",
      "│ abs550bc        │ 1          │ Column      │ x.A550_BC                       │\n",
      "│ abs550dryaer    │ m-1        │ ModelLevel  │ x.ABSDRYAE                      │\n",
      "│ abs550dust      │ 1          │ Column      │ x.A550_DU                       │\n",
      "│ abs550oa        │ 1          │ Column      │ x.A550_POM                      │\n",
      "│ abs550ss        │ 1          │ Column      │ x.A550_SS                       │\n",
      "│ airmass         │ kg m-2     │ ModelLevel  │ x.AIRMASS                       │\n",
      "│ area            │ m2         │ Surface     │ x.GRIDAREA                      │\n",
      "│ bldep           │ m          │ Column      │ x.PBLH                          │\n",
      "│ ccn             │ cm3        │ ModelLevel  │ x.CCN6                          │\n",
      "│ ccn860          │ cm3        │ Column      │ x.CCN6[:,25,:,:]                │\n",
      "│ cl3D            │ 1          │ ModelLevel  │ x.CLOUD                         │\n",
      "│ cldhigh         │ 1          │ Column      │ x.CLDHGH                        │\n",
      "│ cldlow          │ 1          │ Column      │ x.CLDLOW                        │\n",
      "│ cldmid          │ 1          │ Column      │ x.CLDMED                        │\n",
      "│ clivi           │ kg m-2     │ Column      │ x.TGCLDIWP                      │\n",
      "│ clt             │ 1          │ Column      │ x.CLDTOT                        │\n",
      "│ convclt         │ 1          │ Column      │ x.CNVCLD                        │\n",
      "│ drydust         │ kg m-2 s-1 │ Surface     │ -1.0*(x.DST_A2DDF+x.DST_A3DDF+… │\n",
      "│ drydustDSTA2    │ kg m-2 s-1 │ Surface     │ -1.0*(x.DST_A2DDF+x.DST_A2_OCW… │\n",
      "│ drydustDSTA3    │ kg m-2 s-1 │ Surface     │ -1.0*(x.DST_A3DDF+x.DST_A3_OCW… │\n",
      "│ emidust         │ kg m-2 s-1 │ Surface     │ x.SFDST_A2+x.SFDST_A3           │\n",
      "│ emidustDSTA2    │ kg m-2 s-1 │ Surface     │ x.SFDST_A2                      │\n",
      "│ emidustDSTA3    │ kg m-2 s-1 │ Surface     │ x.SFDST_A3                      │\n",
      "│ hus             │ K          │ ModelLevel  │ x.Q                             │\n",
      "│ landf           │ 1          │ Surface     │ x.LANDFRAC                      │\n",
      "│ loadbc          │ kg m-2     │ Column      │ x.cb_BC+x.cb_BC_NI_OCW+x.cb_BC… │\n",
      "│ loaddms         │ kg m-2     │ Column      │ x.cb_DMS                        │\n",
      "│ loaddu          │ kg m-2     │ Column      │ x.cb_DUST+x.cb_DST_A2_OCW+x.cb… │\n",
      "│ loadduDSTA2     │ kg m-2     │ Column      │ x.cb_DST_A2+x.cb_DST_A2_OCW     │\n",
      "│ loadduDSTA3     │ kg m-2     │ Column      │ x.cb_DST_A3+x.cb_DST_A3_OCW     │\n",
      "│ loadoa          │ kg m-2     │ Column      │ x.cb_OM+x.cb_OM_NI_OCW+x.cb_OM… │\n",
      "│ loadso2         │ kg m-2     │ Column      │ x.cb_SO2                        │\n",
      "│ loadso4         │ kg m-2     │ Column      │ 0.9796*(x.cb_SO4_A1+0.74244589… │\n",
      "│ loadss          │ kg m-2     │ Column      │ x.cb_SALT+x.cb_SS_A1_OCW+x.cb_… │\n",
      "│ lwp             │ kg m-2     │ Column      │ x.TGCLDLWP                      │\n",
      "│ mmraerh2o       │ kg kg-1    │ ModelLevel  │ x.MMR_AH2O                      │\n",
      "│ mmrbc           │ kg kg-1    │ ModelLevel  │ x.BC_A+x.BC_AC+x.BC_AX+x.BC_N+… │\n",
      "│ mmrdu           │ kg kg-1    │ ModelLevel  │ x.DST_A2+x.DST_A3+x.DST_A2_OCW… │\n",
      "│ mmroa           │ kg kg-1    │ ModelLevel  │ x.OM_AC+x.OM_AI+x.OM_NI+x.SOA_… │\n",
      "│ mmrso4          │ kg kg-1    │ ModelLevel  │ {SF1}*(x.SO4_A1+{SF2}/{SF1}*x.… │\n",
      "│ mmrss           │ kg kg-1    │ ModelLevel  │ x.SS_A1+x.SS_A2+x.SS_A3+x.SS_A… │\n",
      "│ od10umdust      │ 1          │ Column      │ x.DOD10UM                       │\n",
      "│ od10umdustDSTA2 │ 1          │ Column      │ x.DOD10UMA2                     │\n",
      "│ od10umdustDSTA3 │ 1          │ Column      │ x.DOD10UMA3                     │\n",
      "│ od440aer        │ 1          │ Column      │ x.DOD440                        │\n",
      "│ od440dust       │ 1          │ Column      │ x.D440_DU                       │\n",
      "│ od440dustDSTA2  │ 1          │ Column      │ x.D440_DUA2                     │\n",
      "│ od440dustDSTA3  │ 1          │ Column      │ x.D440_DUA3                     │\n",
      "│ od550aer        │ 1          │ Column      │ x.DOD550                        │\n",
      "│ od550aerh2o     │ 1          │ Column      │ x.DOD550-x.OD550DRY             │\n",
      "│ od550bc         │ 1          │ Column      │ x.D550_BC                       │\n",
      "│ od550csaer      │ 1          │ Column      │ x.CDOD550/(x.CLDFREE+0.0004)    │\n",
      "│ od550dust       │ 1          │ Column      │ x.D550_DU                       │\n",
      "│ od550dustDSTA2  │ 1          │ Column      │ x.D550_DUA2                     │\n",
      "│ od550dustDSTA3  │ 1          │ Column      │ x.D550_DUA3                     │\n",
      "│ od550gt1aer     │ 1          │ Column      │ x.DOD550-x.DLT_SS-x.DLT_DUST-x… │\n",
      "│ od550lt1aer     │ 1          │ Column      │ x.DLT_SS+x.DLT_DUST+x.DLT_SO4+… │\n",
      "│ od550lt1dust    │ 1          │ Column      │ x.DLT_DUST                      │\n",
      "│ od550oa         │ 1          │ Column      │ x.D550_POM                      │\n",
      "│ od550so4        │ 1          │ Column      │ x.D550_SO4                      │\n",
      "│ od550ss         │ 1          │ Column      │ x.D550_SS                       │\n",
      "│ od870aer        │ 1          │ Column      │ x.DOD870                        │\n",
      "│ od870dust       │ 1          │ Column      │ x.D870_DU                       │\n",
      "│ od870dustDSTA2  │ 1          │ Column      │ x.D870_DUA2                     │\n",
      "│ od870dustDSTA3  │ 1          │ Column      │ x.D870_DUA3                     │\n",
      "│ orog            │ m          │ Surface     │ x.PHIS/9.81                     │\n",
      "│ pr              │ kg m-2 s-1 │ Surface     │ 1000*x.PRECT                    │\n",
      "│ prc             │ kg m-2 s-1 │ Column      │ 1000*x.PRECC                    │\n",
      "│ pressure        │ Pa         │ ModelLevel  │ x.P0*x.hyam+x.PS*x.hybm         │\n",
      "│ prsn            │ kg m-2 s-1 │ Surface     │ x.PRECSC+1000*x.PRECSL          │\n",
      "│ ps              │ Pa         │ Surface     │ x.PS                            │\n",
      "│ rho             │ kg m-3     │ ModelLevel  │ (x.P0*x.hyam+x.PS*x.hybm)/({RA… │\n",
      "│ rlds            │ W m-2      │ Column      │ x.FLDS                          │\n",
      "│ rlus            │ W m-2      │ Column      │ x.FLDS-x.FLNS                   │\n",
      "│ rlut            │ W m-2      │ Column      │ x.FLUT                          │\n",
      "│ rlutca          │ W m-2      │ Column      │ x.FLNT_DRF-x.FLNT               │\n",
      "│ rlutcaDSTA2     │ W m-2      │ Column      │ x.FLNT_DSTA2-x.FLNT             │\n",
      "│ rlutcaDSTA3     │ W m-2      │ Column      │ x.FLNT_DSTA3-x.FLNT             │\n",
      "│ rlutcs          │ W m-2      │ Column      │ x.FLUTC                         │\n",
      "│ rlutcsca        │ W m-2      │ Column      │ x.FLNTCDRF-x.FLNT_DRF           │\n",
      "│ rsds            │ W m-2      │ Surface     │ x.FSDS                          │\n",
      "│ rsdsDSTA2       │ W m-2      │ Surface     │ x.FSDS_DSTA2                    │\n",
      "│ rsdsDSTA3       │ W m-2      │ Surface     │ x.FSDS_DSTA3                    │\n",
      "│ rsdscs          │ W m-2      │ Surface     │ x.FSDSC                         │\n",
      "│ rsdt            │ W m-2      │ Surface     │ x.SOLIN                         │\n",
      "│ rsus            │ W m-2      │ Surface     │ x.FSDS-x.FSNS                   │\n",
      "│ rsut            │ W m-2      │ Surface     │ x.FSUTOA                        │\n",
      "│ rsutca          │ W m-2      │ Column      │ x.FSNT-x.FSNT_DRF               │\n",
      "│ rsutcaDSTA2     │ W m-2      │ Column      │ x.FSNT-x.FSNT_DSTA2             │\n",
      "│ rsutcaDSTA3     │ W m-2      │ Column      │ x.FSNT-x.FSNT_DSTA3             │\n",
      "│ rsutcsca        │ W m-2      │ Column      │ x.FSNT_DRF-x.FSNTCDRF           │\n",
      "│ rsutcscaDSTA2   │ W m-2      │ Column      │ x.FSNT_DSTA2-x.FSNTCDRF_DSTA2   │\n",
      "│ rsutcscaDSTA3   │ W m-2      │ Column      │ x.FSNT_DSTA3-x.FSNTCDRF_DSTA3   │\n",
      "│ sconcbc         │ ug m-3     │ Surface     │ (x.PS/287.0/x.TS)*(x.BC_A[:,{L… │\n",
      "│ sconcdms        │ ug m-3     │ Surface     │ (x.PS/287.0/x.TS)*x.DMS[:,{LL}… │\n",
      "│ sconcdust       │ ug m-3     │ Surface     │ (x.PS/287.0/x.TS)*(x.DST_A2[:,… │\n",
      "│ sconcdustpm25   │ ug m-3     │ Surface     │ x.C_MIPM25                      │\n",
      "│ sconcoa         │ ug m-3     │ Surface     │ (x.PS/287.0/x.TS)*(x.OM_AC[:,{… │\n",
      "│                 │            │             │ +x.OM_NI[:,{LL},:,:]+x.SOA_NA[… │\n",
      "│ sconcpm10       │ ug m-3     │ Surface     │ x.PMTOT-x.PS/287.0/x.TS*1e9*({… │\n",
      "│ sconcpm10by20   │ 1          │ Surface     │ (x.PMTOT-x.PS/287.0/x.TS*1e9*(… │\n",
      "│ sconcpm25       │ ug m-3     │ Surface     │ x.PM25                          │\n",
      "│ sconcso2        │ ug m-3     │ Surface     │ (x.PS/287.0/TS)*x.SO2[:,{LL},:… │\n",
      "│ sconcso4        │ ug m-3     │ Surface     │ (x.PS/287.0/x.TS)*{SF1}*(x.SO4… │\n",
      "│ sconcss         │ ug m-3     │ Surface     │ (x.PS/287.0/x.TS)*(x.SS_A1[:,{… │\n",
      "│ tas             │ K          │ Surface     │ x.TREFHT                        │\n",
      "│ tatp            │ K          │ Column      │ x.TROP_T                        │\n",
      "│ temp            │ K          │ ModelLevel  │ x.T                             │\n",
      "│ tos             │ K          │ Surface     │ x.SST                           │\n",
      "│ ts              │ K          │ Surface     │ x.TS                            │\n",
      "│ wetdust         │ kg m-2 s-1 │ Surface     │ -1.0*(x.DST_A2SFWET+x.DST_A3SF… │\n",
      "│ wetdustDSTA2    │ kg m-2 s-1 │ Surface     │ -1.0*(x.DST_A2SFWET+x.DST_A2_O… │\n",
      "│ wetdustDSTA3    │ kg m-2 s-1 │ Surface     │ -1.0*(x.DST_A3SFWET+x.DST_A3_O… │\n",
      "│ ztp             │ m          │ Column      │ x.TROP_Z                        │\n",
      "└─────────────────┴────────────┴─────────────┴─────────────────────────────────┘\n"
     ]
    }
   ],
   "source": [
    "%%bash\n",
    "nac list-species"
   ]
  },
  {
   "cell_type": "markdown",
   "id": "7feb7670",
   "metadata": {},
   "source": [
    "To see information of specific species, just list the species after"
   ]
  },
  {
   "cell_type": "code",
   "execution_count": 5,
   "id": "28f24816",
   "metadata": {
    "vscode": {
     "languageId": "shellscript"
    }
   },
   "outputs": [
    {
     "name": "stdout",
     "output_type": "stream",
     "text": [
      "┏━━━━━━━━━━┳━━━━━━━━━━━━┳━━━━━━━━━━━━━┳━━━━━━━━━━━━━━━━━━━━━━━━━━━━━━━━━━━━━━━━┓\n",
      "┃\u001b[1m \u001b[0m\u001b[1mSpecies \u001b[0m\u001b[1m \u001b[0m┃\u001b[1m \u001b[0m\u001b[1mUnit      \u001b[0m\u001b[1m \u001b[0m┃\u001b[1m \u001b[0m\u001b[1mCoordinates\u001b[0m\u001b[1m \u001b[0m┃\u001b[1m \u001b[0m\u001b[1mFormula                               \u001b[0m\u001b[1m \u001b[0m┃\n",
      "┡━━━━━━━━━━╇━━━━━━━━━━━━╇━━━━━━━━━━━━━╇━━━━━━━━━━━━━━━━━━━━━━━━━━━━━━━━━━━━━━━━┩\n",
      "│ wetdust  │ kg m-2 s-1 │ Surface     │ -1.0*(x.DST_A2SFWET+x.DST_A3SFWET+x.D… │\n",
      "│ od440aer │ 1          │ Column      │ x.DOD440                               │\n",
      "└──────────┴────────────┴─────────────┴────────────────────────────────────────┘\n"
     ]
    }
   ],
   "source": [
    "%%bash\n",
    "nac list-species wetdust od440aer"
   ]
  }
 ],
 "metadata": {
  "kernelspec": {
   "display_name": "Python 3 (ipykernel)",
   "language": "python",
   "name": "python3"
  },
  "language_info": {
   "codemirror_mode": {
    "name": "ipython",
    "version": 3
   },
   "file_extension": ".py",
   "mimetype": "text/x-python",
   "name": "python",
   "nbconvert_exporter": "python",
   "pygments_lexer": "ipython3",
   "version": "3.11.6"
  }
 },
 "nbformat": 4,
 "nbformat_minor": 5
}
