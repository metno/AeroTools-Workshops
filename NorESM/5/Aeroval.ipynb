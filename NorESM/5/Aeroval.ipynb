{
 "cells": [
  {
   "cell_type": "markdown",
   "id": "4d3e586d-bffd-4a5e-8681-02d70a9b9f51",
   "metadata": {},
   "source": [
    "# Using Aeroval\n",
    "\n",
    "In this tutorial we will look at how to upload to and use [aeroval.met.no]. We will look at how to use the [dev server](http://aeroval-test.met.no/), as well how to go about uploading to the main [aeroval.met.no] server.\n",
    "\n",
    "The data we have produced in the last tutorial is meant to be viewed at . This is the production web server, i.e. where we push before"
   ]
  },
  {
   "cell_type": "markdown",
   "id": "62762089-34ce-4a0c-bf42-b83fe152eace",
   "metadata": {},
   "source": [
    "## Uploading to the dev server\n",
    "\n",
    "Here we will look at how to view the data we made in the last tutorial. Since we are still only producing testing data, we will be using the development server [http://aeroval-test.met.no/]. This page works by linking your data folder to a folder on PPI that the webpage used to find it's data. Clicking on the link above you will see a landing page for the webpage that tells you how to do this. I think this might be lacking some steps, so we will go through those instructions here as well.\n",
    "\n",
    "In the case that the last tutorial did'nt produce any data, be that due to errors or too long wait time in the queue, I've provided the results of the config here: `/lustre/storeB/project/fou/kl/emep/People/danielh/projects/pyaerocom/workshop/noresm/data`.\n",
    "\n",
    "We can then, on PPI, do the following"
   ]
  },
  {
   "cell_type": "code",
   "execution_count": null,
   "id": "9ed40349",
   "metadata": {
    "vscode": {
     "languageId": "shellscript"
    }
   },
   "outputs": [],
   "source": [
    "%%bash\n",
    "cd /lustre/storeB/project/fou/kl/emep/Web/AeroVal\n",
    "mkdir $USER\n",
    "\n",
    "cd $USER\n",
    "ln -s <path_to_your_data> .\n",
    "# ln -s /lustre/storeB/project/fou/kl/emep/People/danielh/projects/pyaerocom/workshop/noresm/data ."
   ]
  },
  {
   "cell_type": "markdown",
   "id": "ff8c37e6",
   "metadata": {},
   "source": [
    "You can now use the link http://aeroval-test.met.no/USERNAME/pages/evaluation/?project=workshop&experiment=noresm to see the result (replace **USERNAME** with your username!). If this did not work, and you just want to see the results, use this [link](http://aeroval-test.met.no/danielh/pages/evaluation/?project=workshop&experiment=noresm) instead. This is to my copy of the results."
   ]
  },
  {
   "cell_type": "markdown",
   "id": "ad19e7ea-c80f-4e78-96dd-9854a57d27db",
   "metadata": {},
   "source": [
    "## Looking at aeroval\n",
    "\n",
    "We now have some data on the webpage. Lets look at some parts of the web page\n",
    "\n",
    "The first is the main view of the webpage, where one can see time series, stations, statistics, etc for models vs observation\n",
    "\n",
    "<img src=\"aeroval_main.png\" alt=\"drawing\" width=\"600\"/>\n",
    "\n",
    "\n",
    "Next we have a page where we can compare all the models at the same time\n",
    "\n",
    "<img src=\"aeroval_intercomp.png\" alt=\"drawing\" width=\"600\"/>\n",
    "\n",
    "Third we have the tab where we can more closely look at the statistics\n",
    "\n",
    "<img src=\"aeroval_heatmap.png\" alt=\"drawing\" width=\"600\"/>\n",
    "\n",
    "And lastly, we have the information tab, where we can get info about both the networks mainly used in PyAerocom, as well as the definitions used for the different statistics. Here you can also find a json version of the config you used to run the evaluation, so that others can reproduce your results\n",
    "\n",
    "<img src=\"aeroval_info.png\" alt=\"drawing\" width=\"600\"/>"
   ]
  },
  {
   "cell_type": "markdown",
   "id": "6da54c56",
   "metadata": {},
   "source": [
    "## Uploading to production server\n"
   ]
  },
  {
   "cell_type": "markdown",
   "id": "dfe379f2",
   "metadata": {},
   "source": [
    "As of now, you have to contact one of the members of the AeroTools team if you want to use the production server.."
   ]
  }
 ],
 "metadata": {
  "kernelspec": {
   "display_name": "Python 3 (ipykernel)",
   "language": "python",
   "name": "python3"
  },
  "language_info": {
   "codemirror_mode": {
    "name": "ipython",
    "version": 3
   },
   "file_extension": ".py",
   "mimetype": "text/x-python",
   "name": "python",
   "nbconvert_exporter": "python",
   "pygments_lexer": "ipython3",
   "version": "3.11.6"
  }
 },
 "nbformat": 4,
 "nbformat_minor": 5
}
