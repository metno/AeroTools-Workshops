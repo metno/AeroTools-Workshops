{
 "cells": [
  {
   "cell_type": "markdown",
   "id": "23fbb59c-adcf-4ec5-8af4-6c2496743225",
   "metadata": {},
   "source": [
    "# Running PyAeroval\n",
    "\n",
    "PyAeroval is the most used feature of AeroTools. The point of PyAeroval is that the user, through a \"simple\" configuration file, can evaluate any combination of model and observation data, and display the result on the [Aeroval web page](https://aeroval.met.no/)."
   ]
  },
  {
   "cell_type": "markdown",
   "id": "5c4c6c1c",
   "metadata": {},
   "source": [
    "The configuration (config) file can either be a json file that is run with the command `pya aeroval <file path>`, or a python file that calls on PyAeroval with a configuration dictionary. In this tutorial we will use the latter method, as I think it is easier to work with a python files.\n",
    "\n",
    "We will start by looking at the structure of the configuration dictionary, and then we will look at how to run PyAeroval with said dictionary."
   ]
  },
  {
   "cell_type": "markdown",
   "id": "9cdb7d93",
   "metadata": {},
   "source": [
    "## Configuration Dictionary\n",
    "\n",
    "The config dictionary is, as you can guess, a Python dictionary. It consists of three \"parts\"\n",
    "\n",
    "1. Global options: A set of options for the evaluation, e.g. name, PI, output directory, etc\n",
    "2. Model config: A dictionary containing information about the models to be used\n",
    "3. Observation config: A dictionary containing information about the observations to be used\n",
    "\n",
    "All of this is contained in one dictionary on the form\n",
    "```\n",
    "CONFIG = {\n",
    "    <global option key 1> = <global option value 1>,\n",
    "    <global option key 2> = <global option value 2>,\n",
    "    .\n",
    "    .\n",
    "    .\n",
    "    <global option key 3> = <global option value 3>,\n",
    "    model_cfg = <dict with model configs>,\n",
    "    obs_cfg = <dict with observation config>,\n",
    "}\n",
    "```\n",
    "\n",
    "We will see how this is done below"
   ]
  },
  {
   "cell_type": "markdown",
   "id": "5e012e38",
   "metadata": {},
   "source": [
    "### Global Options\n",
    "\n",
    "Below you can see a typical set of options used in most of the runs I do with PyAeroval. We will start by first defining some paths and names that should be unique for your configuration"
   ]
  },
  {
   "cell_type": "code",
   "execution_count": 1,
   "id": "32e0b13d",
   "metadata": {},
   "outputs": [],
   "source": [
    "output_dir = <output_dir>\"/data\"\n",
    "coldata_dir = <output_dir>\"/coldata\"\n",
    "exp_pi = <our name>\n",
    "proj_id = \"workshop\"\n",
    "exp_id = \"noresm\""
   ]
  },
  {
   "cell_type": "code",
   "execution_count": 2,
   "id": "3f34d371",
   "metadata": {},
   "outputs": [],
   "source": [
    "CFG = dict(\n",
    "    # Output directories\n",
    "    json_basedir=output_dir,\n",
    "    coldata_basedir=coldata_dir,\n",
    "\n",
    "    # Run options\n",
    "    reanalyse_existing=True,        # if True, existing colocated data files will be deleted\n",
    "    raise_exceptions=True,          # if True, the analysis will stop whenever an error occurs \n",
    "    clear_existing_json=False,      # if True, deletes previous output before running\n",
    "\n",
    "    # Map Options\n",
    "    add_model_maps=False,           # Adds a plot of the whole map. Very slow!!!\n",
    "    only_model_maps=False,          # Adds only plot above, without any other evaluation\n",
    "    filter_name=\"ALL-wMOUNTAINS\",   # Regional filter for analysis\n",
    "    map_zoom=\"World\",               # Zoom level. For EMEP, Europe is typically used\n",
    "    # regions_how=\"country\",        # Calculates statistics for different regions. Typically \"country\" is used, but that does not work for satellite data\n",
    "\n",
    "    # Time and Frequency Options\n",
    "    ts_type=\"monthly\",              # Colocation frequency (no statistics in higher resolution can be computed)\n",
    "    freqs=[\"monthly\", \"yearly\"],    # Frequencies that are evaluated\n",
    "    main_freq=\"monthly\",            # Frequency that is displayed when opening webpage\n",
    "    periods=[\"2010\"],               # List of years or periods of years that are evaluated. E.g. \"2005\" or \"2001-2020\"\n",
    "    \n",
    "\n",
    "    # Statistical Options\n",
    "    obs_remove_outliers=False,\n",
    "    model_remove_outliers=False,\n",
    "    colocate_time=True,\n",
    "    zeros_to_nan=False,\n",
    "    weighted_stats=True,\n",
    "    annual_stats_constrained=True,\n",
    "    harmonise_units=True,\n",
    "    \n",
    "    #resample_how={\"vmro3max\": {\"daily\": {\"hourly\": \"max\"}}}, # How to handle Ozone. Used all the time in EMEP\n",
    "\n",
    "    # Experiment Metadata\n",
    "    exp_pi=exp_pi,\n",
    "    proj_id=proj_id,\n",
    "    exp_id=exp_id,\n",
    "    exp_name=\"Evaluation of NorESM data\",\n",
    "    exp_descr=(\"Evaluation of NorESM data\"),\n",
    "    public=True,\n",
    ")"
   ]
  },
  {
   "cell_type": "markdown",
   "id": "28d9696c",
   "metadata": {},
   "source": [
    "We will add one more options before looking at the models and observations: `min_num_obs`. This tells us how many data points are necessary when averaging to a coarser frequency. If that constraint is not met, then the coarser data point will be set to `NaN`."
   ]
  },
  {
   "cell_type": "code",
   "execution_count": 4,
   "id": "56584bc8",
   "metadata": {},
   "outputs": [],
   "source": [
    "DEFAULT_RESAMPLE_CONSTRAINTS = dict(\n",
    "    yearly=dict(monthly=9),\n",
    "    monthly=dict(\n",
    "        daily=7,\n",
    "        weekly=3,\n",
    "    ),\n",
    "    daily=dict(hourly=18),\n",
    ")\n",
    "\n",
    "CFG[\"min_num_obs\"] = DEFAULT_RESAMPLE_CONSTRAINTS"
   ]
  },
  {
   "cell_type": "markdown",
   "id": "0ce4373f",
   "metadata": {},
   "source": [
    "### Model Configuration\n",
    "\n",
    "We will use two models here. Both will be defined by a dictionary. Since we are using Aerocom3 data, which is default in PyAerocom, we don't need many arguments to define the models. The difference between the two models we are using is that one is a dataset predefined in PyAerocom, while the other is out own NorESM data.\n",
    "\n",
    "We start with the predefined dataset. PyAerocom has a set of predefined datasets. There is now easy way of displaying all the datasets as of now, but a catalog is in the making. We are going to use `AEROCOM-MEAN-2x3_AP3-CTRL`. This will be the `model_id` in the below dict"
   ]
  },
  {
   "cell_type": "code",
   "execution_count": 8,
   "id": "1f6391d8",
   "metadata": {},
   "outputs": [],
   "source": [
    "AEROCOM_MEAN = {\n",
    "        \"model_id\": \"AEROCOM-MEAN-2x3_AP3-CTRL\", \n",
    "    }"
   ]
  },
  {
   "cell_type": "markdown",
   "id": "9d7e30c3",
   "metadata": {},
   "source": [
    "For the other observation we will use our NorESM data. Here we can make the `model_id` something like *noresm*. As long as this is not a known dataset, PyAeroval will assume that you will provide the dataset. This is done by giving it another argument `model_data_dir`"
   ]
  },
  {
   "cell_type": "code",
   "execution_count": 7,
   "id": "76bbbfc2",
   "metadata": {},
   "outputs": [],
   "source": [
    "NORESM = {\n",
    "        \"model_id\": \"noresm\",\n",
    "        \"model_data_dir\": \"/lustre/storeB/project/fou/kl/emep/People/danielh/projects/pyaerocom/workshop/noresm/test_data/noresm\",\n",
    "    }"
   ]
  },
  {
   "cell_type": "markdown",
   "id": "4faac433",
   "metadata": {},
   "source": [
    "We can now add these two dictionaries to a common *model dictionary*, and then add this to out configuration dictionary"
   ]
  },
  {
   "cell_type": "code",
   "execution_count": 10,
   "id": "5a3d28b4",
   "metadata": {},
   "outputs": [],
   "source": [
    "MODELS = {\n",
    "    \"AEROCOM-MEAN\": AEROCOM_MEAN,\n",
    "    \"NORESM\" : NORESM\n",
    "}\n",
    "\n",
    "CFG[\"model_cfg\"] = MODELS"
   ]
  },
  {
   "cell_type": "markdown",
   "id": "56bacb98",
   "metadata": {},
   "source": [
    "### Observations Configuration\n",
    "\n",
    "As with models, observations can either be observation networks already defined by PyAerocom, or custom network. The problem with observations is that we don't have any conventions like Aerocom, so providing custom observations is not as easy as with models. \n",
    "\n",
    "To solve this problem, the AeroTools team has created [Pyaro](https://github.com/metno/pyaro); an interface for creating observation readers that works with PyAerocom. Who to create such readers are far outside of the scope of this workshop. We will instead look at how to use a Pyaro reader make for Aeronet sun data. \n",
    "\n",
    "But before looking at that we will look at two networks found in PyAerocom, one gridded and one ungridded."
   ]
  },
  {
   "cell_type": "markdown",
   "id": "d677a2dd",
   "metadata": {},
   "source": [
    "We start by adding a Aeronet Sun V3 dataset already defined by PyAerocom"
   ]
  },
  {
   "cell_type": "code",
   "execution_count": 13,
   "id": "525387c7",
   "metadata": {},
   "outputs": [],
   "source": [
    "AERONET =dict(\n",
    "        obs_id=\"AeronetSunV3Lev2.daily\",    # Observation ID of know network\n",
    "        web_interface_name=\"Aeronet-m\",     # Name that is displayed on the webpage\n",
    "        obs_vars=[\"od550aer\"],              # List of variables that is to be evaluated\n",
    "        obs_vert_type=\"Column\",             # Observation level\n",
    "        ts_type=\"monthly\",                  # Frequency of read observations. Evaluation can not be finer than this, for this network\n",
    "        obs_filters={\"latitude\": [30, 82],  # Observation filters. Each network can have own filters. Here I've uses lat, lon and alt as examples\n",
    "                    \"longitude\": [-30, 90],\n",
    "                    \"altitude\": [-200, 5000],\n",
    "                    }\n",
    "    )"
   ]
  },
  {
   "cell_type": "markdown",
   "id": "f5715f95",
   "metadata": {},
   "source": [
    "As we can see, this is a bit more complicated than the model configs. With my comments they should be more or less understandable. Note that again `obs_id` has to be a known network, and as with the models, a catalog of networks is in the works.\n",
    "\n",
    "In the global options we defined a `min_num_obs`. We can do that here as well. If PyAeroval finds this option in the observation config, as well as in the global options, the one found in the observation config will be prioritized. There are a handful of such options, e.g. outlier limits."
   ]
  },
  {
   "cell_type": "markdown",
   "id": "36fd081f",
   "metadata": {},
   "source": [
    "Next is the gridded observations, where we will use MODIS data"
   ]
  },
  {
   "cell_type": "code",
   "execution_count": 14,
   "id": "84e088b1",
   "metadata": {},
   "outputs": [],
   "source": [
    "MODIS = dict(\n",
    "        obs_id=\"MODIS6.1terra.DT.DP.mean\",  # Observation ID of know network\n",
    "        web_interface_name=\"Modis\",         # Name that is displayed on the webpage\n",
    "        obs_vars=[\"od550aer\"],              # List of variables that is to be evaluated\n",
    "        obs_vert_type=\"Column\",             # Observation level\n",
    "        regrid_res_deg={                    # Regridding of the data\n",
    "            \"lat_res_deg\": 5,\n",
    "            \"lon_res_deg\": 5,\n",
    "        },\n",
    "        ts_type=\"daily\",                    # Frequency of read observations. Evaluation can not be finer than this, for this network\n",
    "    )"
   ]
  },
  {
   "cell_type": "markdown",
   "id": "442a5bef",
   "metadata": {},
   "source": [
    "This config is quite similar to the aeronet config. Worth noting is that we here add an option to regrid the data. This is so to reduce the resources needed to run the evaluation. I've also removed the filters, just to show that the filters are not needed"
   ]
  },
  {
   "cell_type": "markdown",
   "id": "fbc69bee",
   "metadata": {},
   "source": [
    " We are now left with out third way of defining an observation: Pyaro. For this we need an extra step. Pyaro need yet another configuration... We start by making that"
   ]
  },
  {
   "cell_type": "code",
   "execution_count": 19,
   "id": "2ae37a65",
   "metadata": {},
   "outputs": [],
   "source": [
    "from pyaerocom.io.pyaro.pyaro_config import PyaroConfig\n",
    "\n",
    "data_name = \"aeronettest\"                                                                       # Unique name for this dataset. Can be set freely\n",
    "data_id = \"aeronetsunreader\"                                                                    # ID for a specific reader.\n",
    "url = \"https://aeronet.gsfc.nasa.gov/data_push/V3/All_Sites_Times_Daily_Averages_AOD20.zip\"     # Url or file location of the data\n",
    "\n",
    "\n",
    "config = PyaroConfig(\n",
    "    name=data_name,\n",
    "    data_id=data_id,\n",
    "    filename_or_obj_or_url=url,\n",
    "    filters={                                                                                   # Filters applied to the data before reading. Can reduce reading time significantly\n",
    "        \"variables\": {\n",
    "            \"include\": [\"AOD_550nm\"],\n",
    "        }\n",
    "    },\n",
    "    name_map={                                                                                  # Each reader can have its own names for variables, so here you should do the mapping to aerocom names\n",
    "        \"AOD_550nm\": \"od550aer\",\n",
    "    },\n",
    ")"
   ]
  },
  {
   "cell_type": "markdown",
   "id": "2abbea6c",
   "metadata": {},
   "source": [
    "This may seem like we are adding another level of complexity on top of the already complex PyAeroval configuration, but for the sake of developing new observational readers this makes it much easier. The options in this configurations are\n",
    "\n",
    "- data_id: name of the reader need to read the data\n",
    "- name: unique name chosen by the user. Readers with the same *data_id* might have to read from different sources, and therefore a unique name is needed\n",
    "- filename_or_obj_or_url: is the aptly named path to where the reader can find the data\n",
    "- filters: where are multiple filters in Pyaro. The most important are *variable/include* and *variable/exclude*. See the [docs](https://pyaro.readthedocs.io/en/latest/) for more on filters\n",
    "- name_map: each reader might have different names for variables. Here you can make a map between those names and the Aerocom names\n",
    "\n",
    "We can now add this to a observation config"
   ]
  },
  {
   "cell_type": "code",
   "execution_count": 20,
   "id": "54580be9",
   "metadata": {},
   "outputs": [],
   "source": [
    "PYARO = dict(\n",
    "        obs_id=config.name,             # Must be set to the name found in the config\n",
    "        obs_config=config,              # The pyaro config\n",
    "        web_interface_name=\"Pyaro-d\",   # Name that is displayed on the webpage\n",
    "        obs_vars=[\"od550aer\"],          # List of variables that is to be evaluated\n",
    "        obs_vert_type=\"Column\",         # Observation level\n",
    "        ts_type=\"daily\",                # Frequency of read observations. Evaluation can not be finer than this, for this network\n",
    "    )\n"
   ]
  },
  {
   "cell_type": "markdown",
   "id": "a4414e55",
   "metadata": {},
   "source": [
    "We see that this is quite similar to out other observation configs, the only difference being `obs_id` and `obs_config`. Instead of defining the network with the `obs_id`, as we need for the other configs, we instead use `obs_config` to define it. Note that to make PyAeroval keep track of this observation, we need to make `obs_id` the same as the **name** defined in the Pyaro config. The way I've done this above is the easiest and safest.\n",
    "\n",
    "We can now add all of this to out main configuration"
   ]
  },
  {
   "cell_type": "code",
   "execution_count": 22,
   "id": "591494d1",
   "metadata": {},
   "outputs": [],
   "source": [
    "OBS_CFG = {\n",
    "    \"Pyaro-d\": PYARO,\n",
    "    \"Aeromet-m\": AERONET,\n",
    "    \"MODIS\": MODIS\n",
    "}\n",
    "\n",
    "CFG[\"obs_cfg\"] = OBS_CFG"
   ]
  },
  {
   "cell_type": "markdown",
   "id": "b1eb2e06",
   "metadata": {},
   "source": [
    "## Running PyAeroval\n",
    "\n",
    "We have now finally come to the point were we can run this config. While this can be done in this notebook, I instead recommend using the accompanying Python file. But we will here look at the last part of code needed to run the configuration dict"
   ]
  },
  {
   "cell_type": "code",
   "execution_count": null,
   "id": "dc4bbe26",
   "metadata": {},
   "outputs": [],
   "source": [
    "from pyaerocom.aeroval import EvalSetup, ExperimentProcessor\n",
    "from pyaerocom import const\n",
    "\n",
    "print(const.CACHEDIR)               # Prints where to find the caching folder. Not needed but this folder should be emptied now and then, so I like to see where it is\n",
    "\n",
    "\n",
    "stp = EvalSetup(**CFG)              # Makes a setup object from the dict, that PyAeroval can use\n",
    "ana = ExperimentProcessor(stp)      # Makes an experiment object\n",
    "res = ana.run()                     # Runs the experiment\n",
    "\n",
    "\n",
    "# Example on how to run an experiment with only certain models, obs, and variables. Often used to run only parts of the experiment that has changed\n",
    "# res = ana.run(model_name=[\"NORESM\"], obs_name=[\"Modis\"], var_list=[\"od550aer\"])\n",
    "\n"
   ]
  },
  {
   "cell_type": "markdown",
   "id": "f35b9f6f",
   "metadata": {},
   "source": [
    "### Running On PPI\n",
    "\n",
    "Since PyAeroval evaluation can be quite resource heavy, we recommend either submitting it as a job, or running the python script on a compute node. This can be done by"
   ]
  },
  {
   "cell_type": "code",
   "execution_count": null,
   "id": "85207466",
   "metadata": {
    "vscode": {
     "languageId": "shellscript"
    }
   },
   "outputs": [],
   "source": [
    "%%bash\n",
    "# on PPI\n",
    "qlogin -l h_rss=8G,mem_free=8G,h_data=8G # Logs into a compute node with 8GB memory\n",
    "\n",
    "module load /modules/MET/rhel8/user-modules/fou-kl/aerotools/pya-v2024.03.NorESM.conda",
    "\n",
    "cd <path to the python script>\n",
    "python pyaeroval_config.py"
   ]
  },
  {
   "cell_type": "markdown",
   "id": "c8bee4bc",
   "metadata": {},
   "source": [
    "## Afterword\n",
    "\n",
    "There are other options, both for the model- and observation setup, as well as the global setup. I've tried to make this config file as slim as possible, while still trying to make it useful. It might seem complex and daunting, but once you have a working config file, you will for the must part just copy  that file, only changing the model and observation setups."
   ]
  },
  {
   "cell_type": "markdown",
   "id": "7b474afb",
   "metadata": {},
   "source": []
  }
 ],
 "metadata": {
  "kernelspec": {
   "display_name": "Python 3 (ipykernel)",
   "language": "python",
   "name": "python3"
  },
  "language_info": {
   "codemirror_mode": {
    "name": "ipython",
    "version": 3
   },
   "file_extension": ".py",
   "mimetype": "text/x-python",
   "name": "python",
   "nbconvert_exporter": "python",
   "pygments_lexer": "ipython3",
   "version": "3.11.6"
  }
 },
 "nbformat": 4,
 "nbformat_minor": 5
}
